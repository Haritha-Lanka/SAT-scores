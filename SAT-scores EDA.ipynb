{
 "cells": [
  {
   "cell_type": "raw",
   "id": "e1d0fedb",
   "metadata": {},
   "source": [
    "Import the csv file for reading"
   ]
  },
  {
   "cell_type": "code",
   "execution_count": 1,
   "id": "f982275a",
   "metadata": {},
   "outputs": [],
   "source": [
    "# Import necessary libraries\n",
    "import numpy as np\n",
    "import pandas as pd\n",
    "import matplotlib.pyplot as plt\n",
    "import seaborn as sns\n",
    "%matplotlib inline"
   ]
  },
  {
   "cell_type": "code",
   "execution_count": 2,
   "id": "106a0540",
   "metadata": {},
   "outputs": [],
   "source": [
    "#Create a data frame satscoresdf (\"SAT__College_Board__2010_School_Level_Results_20240506.csv\")\n",
    "satscoresdf= pd.read_csv(\"SAT__College_Board__2010_School_Level_Results_20240506.csv\")"
   ]
  },
  {
   "cell_type": "code",
   "execution_count": 3,
   "id": "a18c1794",
   "metadata": {},
   "outputs": [
    {
     "data": {
      "text/html": [
       "<div>\n",
       "<style scoped>\n",
       "    .dataframe tbody tr th:only-of-type {\n",
       "        vertical-align: middle;\n",
       "    }\n",
       "\n",
       "    .dataframe tbody tr th {\n",
       "        vertical-align: top;\n",
       "    }\n",
       "\n",
       "    .dataframe thead th {\n",
       "        text-align: right;\n",
       "    }\n",
       "</style>\n",
       "<table border=\"1\" class=\"dataframe\">\n",
       "  <thead>\n",
       "    <tr style=\"text-align: right;\">\n",
       "      <th></th>\n",
       "      <th>DBN</th>\n",
       "      <th>School Name</th>\n",
       "      <th>Number of Test Takers</th>\n",
       "      <th>Critical Reading Mean</th>\n",
       "      <th>Mathematics Mean</th>\n",
       "      <th>Writing Mean</th>\n",
       "    </tr>\n",
       "  </thead>\n",
       "  <tbody>\n",
       "    <tr>\n",
       "      <th>0</th>\n",
       "      <td>01M292</td>\n",
       "      <td>Henry Street School for International Studies</td>\n",
       "      <td>31.0</td>\n",
       "      <td>391.0</td>\n",
       "      <td>425.0</td>\n",
       "      <td>385.0</td>\n",
       "    </tr>\n",
       "    <tr>\n",
       "      <th>1</th>\n",
       "      <td>01M448</td>\n",
       "      <td>University Neighborhood High School</td>\n",
       "      <td>60.0</td>\n",
       "      <td>394.0</td>\n",
       "      <td>419.0</td>\n",
       "      <td>387.0</td>\n",
       "    </tr>\n",
       "    <tr>\n",
       "      <th>2</th>\n",
       "      <td>01M450</td>\n",
       "      <td>East Side Community High School</td>\n",
       "      <td>69.0</td>\n",
       "      <td>418.0</td>\n",
       "      <td>431.0</td>\n",
       "      <td>402.0</td>\n",
       "    </tr>\n",
       "    <tr>\n",
       "      <th>3</th>\n",
       "      <td>01M458</td>\n",
       "      <td>SATELLITE ACADEMY FORSYTH ST</td>\n",
       "      <td>26.0</td>\n",
       "      <td>385.0</td>\n",
       "      <td>370.0</td>\n",
       "      <td>378.0</td>\n",
       "    </tr>\n",
       "    <tr>\n",
       "      <th>4</th>\n",
       "      <td>01M509</td>\n",
       "      <td>CMSP HIGH SCHOOL</td>\n",
       "      <td>NaN</td>\n",
       "      <td>NaN</td>\n",
       "      <td>NaN</td>\n",
       "      <td>NaN</td>\n",
       "    </tr>\n",
       "    <tr>\n",
       "      <th>5</th>\n",
       "      <td>01M515</td>\n",
       "      <td>Lower East Side Preparatory High School</td>\n",
       "      <td>154.0</td>\n",
       "      <td>314.0</td>\n",
       "      <td>532.0</td>\n",
       "      <td>314.0</td>\n",
       "    </tr>\n",
       "    <tr>\n",
       "      <th>6</th>\n",
       "      <td>01M539</td>\n",
       "      <td>New Explorations into Sci, Tech and Math HS</td>\n",
       "      <td>47.0</td>\n",
       "      <td>568.0</td>\n",
       "      <td>583.0</td>\n",
       "      <td>568.0</td>\n",
       "    </tr>\n",
       "    <tr>\n",
       "      <th>7</th>\n",
       "      <td>01M650</td>\n",
       "      <td>CASCADES HIGH SCHOOL</td>\n",
       "      <td>35.0</td>\n",
       "      <td>411.0</td>\n",
       "      <td>401.0</td>\n",
       "      <td>401.0</td>\n",
       "    </tr>\n",
       "    <tr>\n",
       "      <th>8</th>\n",
       "      <td>01M696</td>\n",
       "      <td>BARD HIGH SCHOOL EARLY COLLEGE</td>\n",
       "      <td>138.0</td>\n",
       "      <td>630.0</td>\n",
       "      <td>608.0</td>\n",
       "      <td>630.0</td>\n",
       "    </tr>\n",
       "    <tr>\n",
       "      <th>9</th>\n",
       "      <td>02M047</td>\n",
       "      <td>AMERICAN SIGN LANG ENG DUAL</td>\n",
       "      <td>11.0</td>\n",
       "      <td>405.0</td>\n",
       "      <td>415.0</td>\n",
       "      <td>385.0</td>\n",
       "    </tr>\n",
       "  </tbody>\n",
       "</table>\n",
       "</div>"
      ],
      "text/plain": [
       "      DBN                                     School Name  \\\n",
       "0  01M292  Henry Street School for International Studies    \n",
       "1  01M448            University Neighborhood High School    \n",
       "2  01M450                East Side Community High School    \n",
       "3  01M458                   SATELLITE ACADEMY FORSYTH ST    \n",
       "4  01M509                               CMSP HIGH SCHOOL    \n",
       "5  01M515        Lower East Side Preparatory High School    \n",
       "6  01M539    New Explorations into Sci, Tech and Math HS    \n",
       "7  01M650                           CASCADES HIGH SCHOOL    \n",
       "8  01M696                 BARD HIGH SCHOOL EARLY COLLEGE    \n",
       "9  02M047                    AMERICAN SIGN LANG ENG DUAL    \n",
       "\n",
       "   Number of Test Takers  Critical Reading Mean  Mathematics Mean  \\\n",
       "0                   31.0                  391.0             425.0   \n",
       "1                   60.0                  394.0             419.0   \n",
       "2                   69.0                  418.0             431.0   \n",
       "3                   26.0                  385.0             370.0   \n",
       "4                    NaN                    NaN               NaN   \n",
       "5                  154.0                  314.0             532.0   \n",
       "6                   47.0                  568.0             583.0   \n",
       "7                   35.0                  411.0             401.0   \n",
       "8                  138.0                  630.0             608.0   \n",
       "9                   11.0                  405.0             415.0   \n",
       "\n",
       "   Writing Mean  \n",
       "0         385.0  \n",
       "1         387.0  \n",
       "2         402.0  \n",
       "3         378.0  \n",
       "4           NaN  \n",
       "5         314.0  \n",
       "6         568.0  \n",
       "7         401.0  \n",
       "8         630.0  \n",
       "9         385.0  "
      ]
     },
     "execution_count": 3,
     "metadata": {},
     "output_type": "execute_result"
    }
   ],
   "source": [
    "#check the if the file id read correctly into the df\n",
    "satscoresdf.head(10)"
   ]
  },
  {
   "cell_type": "raw",
   "id": "dbbe64a6",
   "metadata": {},
   "source": [
    "Let us understand the data at our disposal by performing some Exploratory Data Analysis"
   ]
  },
  {
   "cell_type": "code",
   "execution_count": 4,
   "id": "ed3311ea",
   "metadata": {},
   "outputs": [
    {
     "data": {
      "text/plain": [
       "(460, 6)"
      ]
     },
     "execution_count": 4,
     "metadata": {},
     "output_type": "execute_result"
    }
   ],
   "source": [
    "satscoresdf.shape"
   ]
  },
  {
   "cell_type": "code",
   "execution_count": 7,
   "id": "0c54f9c8",
   "metadata": {},
   "outputs": [
    {
     "data": {
      "text/plain": [
       "Index(['DBN', 'School Name', 'Number of Test Takers', 'Critical Reading Mean',\n",
       "       'Mathematics Mean', 'Writing Mean'],\n",
       "      dtype='object')"
      ]
     },
     "execution_count": 7,
     "metadata": {},
     "output_type": "execute_result"
    }
   ],
   "source": [
    "satscoresdf.columns"
   ]
  },
  {
   "cell_type": "code",
   "execution_count": 9,
   "id": "f03be1f1",
   "metadata": {},
   "outputs": [
    {
     "name": "stdout",
     "output_type": "stream",
     "text": [
      "<class 'pandas.core.frame.DataFrame'>\n",
      "RangeIndex: 460 entries, 0 to 459\n",
      "Data columns (total 6 columns):\n",
      " #   Column                 Non-Null Count  Dtype  \n",
      "---  ------                 --------------  -----  \n",
      " 0   DBN                    460 non-null    object \n",
      " 1   School Name            460 non-null    object \n",
      " 2   Number of Test Takers  386 non-null    float64\n",
      " 3   Critical Reading Mean  386 non-null    float64\n",
      " 4   Mathematics Mean       386 non-null    float64\n",
      " 5   Writing Mean           386 non-null    float64\n",
      "dtypes: float64(4), object(2)\n",
      "memory usage: 21.7+ KB\n"
     ]
    }
   ],
   "source": [
    "satscoresdf.info()"
   ]
  },
  {
   "cell_type": "code",
   "execution_count": null,
   "id": "73a81d39",
   "metadata": {},
   "outputs": [],
   "source": []
  }
 ],
 "metadata": {
  "kernelspec": {
   "display_name": "Python 3 (ipykernel)",
   "language": "python",
   "name": "python3"
  },
  "language_info": {
   "codemirror_mode": {
    "name": "ipython",
    "version": 3
   },
   "file_extension": ".py",
   "mimetype": "text/x-python",
   "name": "python",
   "nbconvert_exporter": "python",
   "pygments_lexer": "ipython3",
   "version": "3.10.9"
  }
 },
 "nbformat": 4,
 "nbformat_minor": 5
}
